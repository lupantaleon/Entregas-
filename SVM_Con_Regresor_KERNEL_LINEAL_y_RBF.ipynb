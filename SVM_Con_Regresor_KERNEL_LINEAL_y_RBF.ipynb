{
  "nbformat": 4,
  "nbformat_minor": 0,
  "metadata": {
    "colab": {
      "provenance": [],
      "include_colab_link": true
    },
    "kernelspec": {
      "name": "python3",
      "display_name": "Python 3"
    },
    "language_info": {
      "name": "python"
    }
  },
  "cells": [
    {
      "cell_type": "markdown",
      "metadata": {
        "id": "view-in-github",
        "colab_type": "text"
      },
      "source": [
        "<a href=\"https://colab.research.google.com/github/lupantaleon/Entregas-/blob/main/SVM_Con_Regresor_KERNEL_LINEAL_y_RBF.ipynb\" target=\"_parent\"><img src=\"https://colab.research.google.com/assets/colab-badge.svg\" alt=\"Open In Colab\"/></a>"
      ]
    },
    {
      "cell_type": "code",
      "execution_count": 5,
      "metadata": {
        "id": "Shv-B3P4Y-PR"
      },
      "outputs": [],
      "source": [
        "'''\n",
        "Uso de Máquina de Soporte Vectorial como Regresor.\n",
        "\n",
        "DOCUMENTACIÓN OFICIAL SKLEARN\n",
        "https://scikit-learn.org/stable/modules/svm.html#svm\n",
        "https://scikit-learn.org/stable/modules/svm.html#svm-regression\n",
        "\n",
        "# Receta: \n",
        "Estandarizar las caracteristicas \n",
        "Obtener la ecuacion del hiperplano, lo que equivale a encxontrar sus coeficientes \n",
        "Para cada dato que deseo clasificar reemplazar sus coordenadas en la ecuacion del hiperplano, y dependiendo del valor otenido clasificar el dato en una u otra categoria. Ej: si hay dos clases, si esta arriba es una clase, si esta abajo es otra \n",
        "\n",
        "'''\n",
        "\n",
        "# cargamos las librerías que usaremos\n",
        "import numpy as np #Libreria para manipular datos \n",
        "import pandas as pd #Libreria para manipular datos \n",
        "import matplotlib.pyplot as plt #Para graficar  \n",
        "import seaborn as sns #Solo para levantar el dataset ahora \n",
        "import warnings #para que no molesten los warnings \n",
        "from sklearn.svm import SVR # el regresor \n",
        "from sklearn.preprocessing import StandardScaler #estandar escalar, toma un data set y lo divide linealmente, todas las caracteristticas son comparables. Facilita tambien la rapidez del SVM \n",
        "                                \n",
        "##############################################################################\n",
        "# class sklearn.svm.SVR(*, kernel='rbf', degree=3, gamma='scale', coef0=0.0, \n",
        "#                       tol=0.001, C=1.0, epsilon=0.1, shrinking=True, \n",
        "#                       cache_size=200, verbose=False, max_iter=- 1)\n",
        "##############################################################################\n",
        "\n",
        "warnings.filterwarnings('ignore')\n"
      ]
    },
    {
      "cell_type": "code",
      "source": [
        "# cargamos los datos en un df, directamente desde Seaborn\n",
        "# nos interesa ver si podemos encontrar relaciones entre algunas variables continuas\n",
        "\n",
        "data = sns.load_dataset('anscombe') # dataset que vamos a usar directamente desde seaborn "
      ],
      "metadata": {
        "id": "d6kcbLm5ZGf9"
      },
      "execution_count": 6,
      "outputs": []
    },
    {
      "cell_type": "code",
      "source": [
        "print(data.shape) #Print para ver el dataset FORMA \n",
        "print(data.head(10)) #Print para ver el dataset CABEZA\n",
        "print(data.columns) #Print para ver el dataset  COLUMNAS\n",
        "print(data.tail()) #Print para ver el dataset  COLA "
      ],
      "metadata": {
        "colab": {
          "base_uri": "https://localhost:8080/"
        },
        "id": "Gmtb4WmfZLQ3",
        "outputId": "6e68a08d-8b59-43c9-c596-29d51fe92df8"
      },
      "execution_count": 7,
      "outputs": [
        {
          "output_type": "stream",
          "name": "stdout",
          "text": [
            "(44, 3)\n",
            "  dataset     x      y\n",
            "0       I  10.0   8.04\n",
            "1       I   8.0   6.95\n",
            "2       I  13.0   7.58\n",
            "3       I   9.0   8.81\n",
            "4       I  11.0   8.33\n",
            "5       I  14.0   9.96\n",
            "6       I   6.0   7.24\n",
            "7       I   4.0   4.26\n",
            "8       I  12.0  10.84\n",
            "9       I   7.0   4.82\n",
            "Index(['dataset', 'x', 'y'], dtype='object')\n",
            "   dataset     x      y\n",
            "39      IV   8.0   5.25\n",
            "40      IV  19.0  12.50\n",
            "41      IV   8.0   5.56\n",
            "42      IV   8.0   7.91\n",
            "43      IV   8.0   6.89\n"
          ]
        }
      ]
    },
    {
      "cell_type": "code",
      "source": [
        "data.info() #Metodo de panda para ver como esta echo nuestro dataset. "
      ],
      "metadata": {
        "colab": {
          "base_uri": "https://localhost:8080/"
        },
        "id": "Z5Ilx93cZOi4",
        "outputId": "3ca91431-8e22-400d-cf21-51f706cba0fa"
      },
      "execution_count": 8,
      "outputs": [
        {
          "output_type": "stream",
          "name": "stdout",
          "text": [
            "<class 'pandas.core.frame.DataFrame'>\n",
            "RangeIndex: 44 entries, 0 to 43\n",
            "Data columns (total 3 columns):\n",
            " #   Column   Non-Null Count  Dtype  \n",
            "---  ------   --------------  -----  \n",
            " 0   dataset  44 non-null     object \n",
            " 1   x        44 non-null     float64\n",
            " 2   y        44 non-null     float64\n",
            "dtypes: float64(2), object(1)\n",
            "memory usage: 1.2+ KB\n"
          ]
        }
      ]
    },
    {
      "cell_type": "code",
      "source": [
        "# Para ver lop que tiene el data set por dentro, lo grafico \n",
        "sns.lmplot( #Metodo de seaborn para graficar el dataset \n",
        "    data=data, x=\"x\", y=\"y\", col=\"dataset\", hue=\"dataset\",\n",
        "    col_wrap=2, palette=\"muted\", ci=None,\n",
        "    height=4, scatter_kws={\"s\": 50, \"alpha\": 1}\n",
        ")"
      ],
      "metadata": {
        "colab": {
          "base_uri": "https://localhost:8080/",
          "height": 602
        },
        "id": "yZaOBnAqZVUc",
        "outputId": "ccf265ac-2f9d-4d87-c245-d7867d97d976"
      },
      "execution_count": 9,
      "outputs": [
        {
          "output_type": "execute_result",
          "data": {
            "text/plain": [
              "<seaborn.axisgrid.FacetGrid at 0x7f5bf76ca7f0>"
            ]
          },
          "metadata": {},
          "execution_count": 9
        },
        {
          "output_type": "display_data",
          "data": {
            "text/plain": [
              "<Figure size 576x576 with 4 Axes>"
            ],
            "image/png": "[encoded data removed]"
          },
          "metadata": {
            "needs_background": "light"
          }
        }
      ]
    },
    {
      "cell_type": "code",
      "source": [
        "# separamos el dataset II y la colocamos en una variable  \n",
        "\n",
        "data2=data[data['dataset']=='II']\n",
        "data2 #No hace falta poner sprint porque en Colab no es necesario "
      ],
      "metadata": {
        "colab": {
          "base_uri": "https://localhost:8080/",
          "height": 394
        },
        "id": "IUOvJDumkDXt",
        "outputId": "78252728-a6e4-46ce-fd9c-c6d83b10d858"
      },
      "execution_count": 12,
      "outputs": [
        {
          "output_type": "execute_result",
          "data": {
            "text/plain": [
              "   dataset     x     y\n",
              "11      II  10.0  9.14\n",
              "12      II   8.0  8.14\n",
              "13      II  13.0  8.74\n",
              "14      II   9.0  8.77\n",
              "15      II  11.0  9.26\n",
              "16      II  14.0  8.10\n",
              "17      II   6.0  6.13\n",
              "18      II   4.0  3.10\n",
              "19      II  12.0  9.13\n",
              "20      II   7.0  7.26\n",
              "21      II   5.0  4.74"
            ],
            "text/html": [
              "\n",
              "  <div id=\"df-ca4d2453-eb73-4d53-9f16-eed349933548\">\n",
              "    <div class=\"colab-df-container\">\n",
              "      <div>\n",
              "<style scoped>\n",
              "    .dataframe tbody tr th:only-of-type {\n",
              "        vertical-align: middle;\n",
              "    }\n",
              "\n",
              "    .dataframe tbody tr th {\n",
              "        vertical-align: top;\n",
              "    }\n",
              "\n",
              "    .dataframe thead th {\n",
              "        text-align: right;\n",
              "    }\n",
              "</style>\n",
              "<table border=\"1\" class=\"dataframe\">\n",
              "  <thead>\n",
              "    <tr style=\"text-align: right;\">\n",
              "      <th></th>\n",
              "      <th>dataset</th>\n",
              "      <th>x</th>\n",
              "      <th>y</th>\n",
              "    </tr>\n",
              "  </thead>\n",
              "  <tbody>\n",
              "    <tr>\n",
              "      <th>11</th>\n",
              "      <td>II</td>\n",
              "      <td>10.0</td>\n",
              "      <td>9.14</td>\n",
              "    </tr>\n",
              "    <tr>\n",
              "      <th>12</th>\n",
              "      <td>II</td>\n",
              "      <td>8.0</td>\n",
              "      <td>8.14</td>\n",
              "    </tr>\n",
              "    <tr>\n",
              "      <th>13</th>\n",
              "      <td>II</td>\n",
              "      <td>13.0</td>\n",
              "      <td>8.74</td>\n",
              "    </tr>\n",
              "    <tr>\n",
              "      <th>14</th>\n",
              "      <td>II</td>\n",
              "      <td>9.0</td>\n",
              "      <td>8.77</td>\n",
              "    </tr>\n",
              "    <tr>\n",
              "      <th>15</th>\n",
              "      <td>II</td>\n",
              "      <td>11.0</td>\n",
              "      <td>9.26</td>\n",
              "    </tr>\n",
              "    <tr>\n",
              "      <th>16</th>\n",
              "      <td>II</td>\n",
              "      <td>14.0</td>\n",
              "      <td>8.10</td>\n",
              "    </tr>\n",
              "    <tr>\n",
              "      <th>17</th>\n",
              "      <td>II</td>\n",
              "      <td>6.0</td>\n",
              "      <td>6.13</td>\n",
              "    </tr>\n",
              "    <tr>\n",
              "      <th>18</th>\n",
              "      <td>II</td>\n",
              "      <td>4.0</td>\n",
              "      <td>3.10</td>\n",
              "    </tr>\n",
              "    <tr>\n",
              "      <th>19</th>\n",
              "      <td>II</td>\n",
              "      <td>12.0</td>\n",
              "      <td>9.13</td>\n",
              "    </tr>\n",
              "    <tr>\n",
              "      <th>20</th>\n",
              "      <td>II</td>\n",
              "      <td>7.0</td>\n",
              "      <td>7.26</td>\n",
              "    </tr>\n",
              "    <tr>\n",
              "      <th>21</th>\n",
              "      <td>II</td>\n",
              "      <td>5.0</td>\n",
              "      <td>4.74</td>\n",
              "    </tr>\n",
              "  </tbody>\n",
              "</table>\n",
              "</div>\n",
              "      <button class=\"colab-df-convert\" onclick=\"convertToInteractive('df-ca4d2453-eb73-4d53-9f16-eed349933548')\"\n",
              "              title=\"Convert this dataframe to an interactive table.\"\n",
              "              style=\"display:none;\">\n",
              "        \n",
              "  <svg xmlns=\"http://www.w3.org/2000/svg\" height=\"24px\"viewBox=\"0 0 24 24\"\n",
              "       width=\"24px\">\n",
              "    <path d=\"M0 0h24v24H0V0z\" fill=\"none\"/>\n",
              "    <path d=\"M18.56 5.44l.94 2.06.94-2.06 2.06-.94-2.06-.94-.94-2.06-.94 2.06-2.06.94zm-11 1L8.5 8.5l.94-2.06 2.06-.94-2.06-.94L8.5 2.5l-.94 2.06-2.06.94zm10 10l.94 2.06.94-2.06 2.06-.94-2.06-.94-.94-2.06-.94 2.06-2.06.94z\"/><path d=\"M17.41 7.96l-1.37-1.37c-.4-.4-.92-.59-1.43-.59-.52 0-1.04.2-1.43.59L10.3 9.45l-7.72 7.72c-.78.78-.78 2.05 0 2.83L4 21.41c.39.39.9.59 1.41.59.51 0 1.02-.2 1.41-.59l7.78-7.78 2.81-2.81c.8-.78.8-2.07 0-2.86zM5.41 20L4 18.59l7.72-7.72 1.47 1.35L5.41 20z\"/>\n",
              "  </svg>\n",
              "      </button>\n",
              "      \n",
              "  <style>\n",
              "    .colab-df-container {\n",
              "      display:flex;\n",
              "      flex-wrap:wrap;\n",
              "      gap: 12px;\n",
              "    }\n",
              "\n",
              "    .colab-df-convert {\n",
              "      background-color: #E8F0FE;\n",
              "      border: none;\n",
              "      border-radius: 50%;\n",
              "      cursor: pointer;\n",
              "      display: none;\n",
              "      fill: #1967D2;\n",
              "      height: 32px;\n",
              "      padding: 0 0 0 0;\n",
              "      width: 32px;\n",
              "    }\n",
              "\n",
              "    .colab-df-convert:hover {\n",
              "      background-color: #E2EBFA;\n",
              "      box-shadow: 0px 1px 2px rgba(60, 64, 67, 0.3), 0px 1px 3px 1px rgba(60, 64, 67, 0.15);\n",
              "      fill: #174EA6;\n",
              "    }\n",
              "\n",
              "    [theme=dark] .colab-df-convert {\n",
              "      background-color: #3B4455;\n",
              "      fill: #D2E3FC;\n",
              "    }\n",
              "\n",
              "    [theme=dark] .colab-df-convert:hover {\n",
              "      background-color: #434B5C;\n",
              "      box-shadow: 0px 1px 3px 1px rgba(0, 0, 0, 0.15);\n",
              "      filter: drop-shadow(0px 1px 2px rgba(0, 0, 0, 0.3));\n",
              "      fill: #FFFFFF;\n",
              "    }\n",
              "  </style>\n",
              "\n",
              "      <script>\n",
              "        const buttonEl =\n",
              "          document.querySelector('#df-ca4d2453-eb73-4d53-9f16-eed349933548 button.colab-df-convert');\n",
              "        buttonEl.style.display =\n",
              "          google.colab.kernel.accessAllowed ? 'block' : 'none';\n",
              "\n",
              "        async function convertToInteractive(key) {\n",
              "          const element = document.querySelector('#df-ca4d2453-eb73-4d53-9f16-eed349933548');\n",
              "          const dataTable =\n",
              "            await google.colab.kernel.invokeFunction('convertToInteractive',\n",
              "                                                     [key], {});\n",
              "          if (!dataTable) return;\n",
              "\n",
              "          const docLinkHtml = 'Like what you see? Visit the ' +\n",
              "            '<a target=\"_blank\" href=https://colab.research.google.com/notebooks/data_table.ipynb>data table notebook</a>'\n",
              "            + ' to learn more about interactive tables.';\n",
              "          element.innerHTML = '';\n",
              "          dataTable['output_type'] = 'display_data';\n",
              "          await google.colab.output.renderOutput(dataTable, element);\n",
              "          const docLink = document.createElement('div');\n",
              "          docLink.innerHTML = docLinkHtml;\n",
              "          element.appendChild(docLink);\n",
              "        }\n",
              "      </script>\n",
              "    </div>\n",
              "  </div>\n",
              "  "
            ]
          },
          "metadata": {},
          "execution_count": 12
        }
      ]
    },
    {
      "cell_type": "code",
      "source": [
        "# graficaremos los valores del dataset que elegimos, el dataset II \n",
        "\n",
        "fig=plt.figure(figsize=(8,6))\n",
        "plt.scatter(data2['x'],data2['y'],color=\"magenta\", alpha=0.5)\n",
        "plt.title(\"x vs y\",fontsize=14,fontweight=\"bold\")\n",
        "plt.xlabel(\"x\")\n",
        "plt.ylabel(\"y\")\n",
        "plt.show()\n",
        "plt.close()\n"
      ],
      "metadata": {
        "colab": {
          "base_uri": "https://localhost:8080/",
          "height": 405
        },
        "id": "K__tuG0bZd3N",
        "outputId": "f48c4a86-fa6f-4844-839f-da08eb5297f7"
      },
      "execution_count": 14,
      "outputs": [
        {
          "output_type": "display_data",
          "data": {
            "text/plain": [
              "<Figure size 576x432 with 1 Axes>"
            ],
            "image/png": "[encoded data removed]"
          },
          "metadata": {
            "needs_background": "light"
          }
        }
      ]
    },
    {
      "cell_type": "code",
      "source": [
        "# Definimos las variables predictoras e independiente\n",
        "y=data2.pop('y') #recortamos de data 2 la viarable y\n",
        "y"
      ],
      "metadata": {
        "colab": {
          "base_uri": "https://localhost:8080/"
        },
        "id": "79wbVvQ9ZgQb",
        "outputId": "5f997110-ff18-4bfa-8169-8ded99eacef9"
      },
      "execution_count": 16,
      "outputs": [
        {
          "output_type": "execute_result",
          "data": {
            "text/plain": [
              "11    9.14\n",
              "12    8.14\n",
              "13    8.74\n",
              "14    8.77\n",
              "15    9.26\n",
              "16    8.10\n",
              "17    6.13\n",
              "18    3.10\n",
              "19    9.13\n",
              "20    7.26\n",
              "21    4.74\n",
              "Name: y, dtype: float64"
            ]
          },
          "metadata": {},
          "execution_count": 16
        }
      ]
    },
    {
      "cell_type": "code",
      "source": [
        "# estadarizamos caacterísticas, debemos entrenarse con las variables que vamos a usar \n",
        "x_train=data2['x'].to_frame() #si le ponemos data2 x lo va a interpretar como una serie/columna de pandas , al ponerle data2 frame entiende como un dataframe \n",
        "sc_x = StandardScaler()\n",
        "sc_y = StandardScaler()\n",
        "x = sc_x.fit_transform(x_train)\n",
        "y = sc_y.fit_transform(y.reshape(-1, 1)) #- X e Y tienen que tener el mismo tamaño en este caso 11,1 \n",
        "print(x.shape)\n",
        "print(y.shape)\n",
        "x #Si vez a x mas arriba era algo, pero ahora X es muy distinta "
      ],
      "metadata": {
        "colab": {
          "base_uri": "https://localhost:8080/"
        },
        "id": "X92EqqnS19Nc",
        "outputId": "72e4d490-d9e8-4b68-893e-9458ef13b407"
      },
      "execution_count": 26,
      "outputs": [
        {
          "output_type": "stream",
          "name": "stdout",
          "text": [
            "(11, 1)\n",
            "(11, 1)\n"
          ]
        },
        {
          "output_type": "execute_result",
          "data": {
            "text/plain": [
              "array([[ 0.31622777],\n",
              "       [-0.31622777],\n",
              "       [ 1.26491106],\n",
              "       [ 0.        ],\n",
              "       [ 0.63245553],\n",
              "       [ 1.58113883],\n",
              "       [-0.9486833 ],\n",
              "       [-1.58113883],\n",
              "       [ 0.9486833 ],\n",
              "       [-0.63245553],\n",
              "       [-1.26491106]])"
            ]
          },
          "metadata": {},
          "execution_count": 26
        }
      ]
    },
    {
      "cell_type": "code",
      "source": [
        "# Ahora ponemos a trabajar a la maquinita...\n",
        "# pedimos que calcule el score (qué tan cerca está la predicción de los datos)\n",
        "# comparamos la predicción con los datos y graficamos\n",
        "# instanciamos modelo LINEAL\n",
        "\n",
        "sv = SVR(kernel= 'linear')\n",
        "\n",
        "# entrenamos...\n",
        "sv.fit(x, y)\n",
        "\n",
        "'''\n",
        "class sklearn.svm.SVR(*, kernel='rbf', degree=3, gamma='scale', coef0=0.0, tol=0.001, \n",
        "C=1.0, epsilon=0.1, shrinking=True, cache_size=200, verbose=False, max_iter=-1)\n",
        "class sklearn.svm.linearSVR(*, epsilon=0.0, tol=0.0001, C=1.0, loss='epsilon_insensitive', \n",
        "fit_intercept=True, intercept_scaling=1.0, dual=True, verbose=0, random_state=None, max_iter=1000)\n",
        "'''"
      ],
      "metadata": {
        "colab": {
          "base_uri": "https://localhost:8080/",
          "height": 70
        },
        "id": "UoLc17v7ZsQK",
        "outputId": "94b22c0c-898f-45a4-9408-8a210153828f"
      },
      "execution_count": 27,
      "outputs": [
        {
          "output_type": "execute_result",
          "data": {
            "text/plain": [
              "\"\\nclass sklearn.svm.SVR(*, kernel='rbf', degree=3, gamma='scale', coef0=0.0, tol=0.001, \\nC=1.0, epsilon=0.1, shrinking=True, cache_size=200, verbose=False, max_iter=-1)\\nclass sklearn.svm.linearSVR(*, epsilon=0.0, tol=0.0001, C=1.0, loss='epsilon_insensitive', \\nfit_intercept=True, intercept_scaling=1.0, dual=True, verbose=0, random_state=None, max_iter=1000)\\n\""
            ],
            "application/vnd.google.colaboratory.intrinsic+json": {
              "type": "string"
            }
          },
          "metadata": {},
          "execution_count": 27
        }
      ]
    },
    {
      "cell_type": "code",
      "source": [
        "# VAMOS A PEDIR UNA PREDICCIÓN Y GRAFICARLA CON OTRO COLOR sobre x_otro ESTOS SON PUNTOS NUEVOS QUE EL MODELO NO VIO CUANDO FUE ENTRENADO, lo uso para ver como responde mi modelo, para que lado va  \n",
        "x_otro=pd.DataFrame([[4.5],[6.5],[8.5],[10.5],[12.5]])\n",
        "xt = sc_x.transform(x_otro)\n",
        "y_pred=sv.predict(xt).reshape(-1,1) #el reshape funciona para hacer que los datos tengan el mismo formato, si no tienen el mismo formato no se los puede comparar \n",
        "#y_pred = sc_y.inverse_transform(y_pred.reshape(-1, 1))\n",
        "print(xt)\n",
        "print(y_pred)"
      ],
      "metadata": {
        "colab": {
          "base_uri": "https://localhost:8080/"
        },
        "id": "PjjMIlOIfOp2",
        "outputId": "6eaabba7-ffb7-4435-e653-144e138234ce"
      },
      "execution_count": 28,
      "outputs": [
        {
          "output_type": "stream",
          "name": "stdout",
          "text": [
            "[[-1.42302495]\n",
            " [-0.79056942]\n",
            " [-0.15811388]\n",
            " [ 0.47434165]\n",
            " [ 1.10679718]]\n",
            "[[-0.99488392]\n",
            " [-0.47865061]\n",
            " [ 0.0375827 ]\n",
            " [ 0.55381601]\n",
            " [ 1.07004931]]\n"
          ]
        }
      ]
    },
    {
      "cell_type": "code",
      "source": [
        "x_vect = np.arange(4., 15., 0.01) # es un vector numpy, NO pandas\n",
        "x_graf = x_vect.reshape((len(x_vect), 1)) # ahora es un dataframe de 1 col\n",
        "xg=sc_x.transform(x_graf)\n",
        "#x_graf = xg.reshape((len(x_vect), 1)) # ahora es un dataframe de 1 col\n",
        "\n",
        "\n",
        "# armamos gráfico\n",
        "plt.figure(dpi=150)   # abro figura\n",
        "plt.scatter(x, y, c = 'blue')     # grafica los datos\n",
        "plt.plot(xg, sv.predict(xg), color = 'lime') # id predicción\n",
        "plt.scatter(xt, y_pred, color='orange', marker='*')\n",
        "plt.plot()\n",
        "plt.title(f'Regresión Máquina de Soporte Vectorial para Anscombe')\n",
        "plt.xlabel('x')\n",
        "plt.ylabel('y')\n",
        "#plt.savefig('anscombe.png', dpi = 300)  # guardo en archivo\n",
        "plt.show()  # muestro gráfico\n",
        "plt.close() # cierro figura\n"
      ],
      "metadata": {
        "colab": {
          "base_uri": "https://localhost:8080/",
          "height": 595
        },
        "id": "e1-xJ4MHZw3R",
        "outputId": "819adeef-3d3a-47d4-eabb-2c83601c7c79"
      },
      "execution_count": 30,
      "outputs": [
        {
          "output_type": "display_data",
          "data": {
            "text/plain": [
              "<Figure size 900x600 with 1 Axes>"
            ],
            "image/png": "[encoded data removed]"
          },
          "metadata": {
            "needs_background": "light"
          }
        }
      ]
    },
    {
      "cell_type": "markdown",
      "source": [
        "### EL GRAFICO DEMUESTRA EL KERNEL LINEAL **NO FUNCIONA ** por lo que tenemos que elegir otro "
      ],
      "metadata": {
        "id": "dELgfRuhAkKN"
      }
    },
    {
      "cell_type": "code",
      "source": [
        "# preguntamos qué tal predice sobre los datos ingresados\n",
        "print('\\n')\n",
        "print(f'Precisión: {sv.score(x, y)}')\n",
        "print('\\n')\n"
      ],
      "metadata": {
        "colab": {
          "base_uri": "https://localhost:8080/"
        },
        "id": "VVV7q_-ZZ4qn",
        "outputId": "8ab9eaab-1173-46f0-a419-7068bddba329"
      },
      "execution_count": 31,
      "outputs": [
        {
          "output_type": "stream",
          "name": "stdout",
          "text": [
            "\n",
            "\n",
            "Precisión: 0.6384728024535903\n",
            "\n",
            "\n"
          ]
        }
      ]
    },
    {
      "cell_type": "markdown",
      "source": [
        "#### LA PRECISION ES MALA, POR LO QUE OPTAMOS POR EL RBF\n",
        " ###  KERNEL RBF \n",
        "\n",
        "\n",
        "\n"
      ],
      "metadata": {
        "id": "8PSqZl75A-t1"
      }
    },
    {
      "cell_type": "code",
      "source": [
        "# A eso se refiere con problema linealmente separable :)\n",
        "# probemos otro kernel\n",
        "sv1 = SVR(kernel= 'rbf', gamma=0.7)\n",
        "\n",
        "# entrenamos CON LOS MISMOS PARAMETROS\n",
        "sv1.fit(x, y)"
      ],
      "metadata": {
        "colab": {
          "base_uri": "https://localhost:8080/",
          "height": 75
        },
        "id": "-LBT4UwCwF3V",
        "outputId": "0e89d928-00a7-4a2d-b974-89db6f858ec5"
      },
      "execution_count": 33,
      "outputs": [
        {
          "output_type": "execute_result",
          "data": {
            "text/plain": [
              "SVR(gamma=0.7)"
            ],
            "text/html": [
              "<style>#sk-container-id-1 {color: black;background-color: white;}#sk-container-id-1 pre{padding: 0;}#sk-container-id-1 div.sk-toggleable {background-color: white;}#sk-container-id-1 label.sk-toggleable__label {cursor: pointer;display: block;width: 100%;margin-bottom: 0;padding: 0.3em;box-sizing: border-box;text-align: center;}#sk-container-id-1 label.sk-toggleable__label-arrow:before {content: \"▸\";float: left;margin-right: 0.25em;color: #696969;}#sk-container-id-1 label.sk-toggleable__label-arrow:hover:before {color: black;}#sk-container-id-1 div.sk-estimator:hover label.sk-toggleable__label-arrow:before {color: black;}#sk-container-id-1 div.sk-toggleable__content {max-height: 0;max-width: 0;overflow: hidden;text-align: left;background-color: #f0f8ff;}#sk-container-id-1 div.sk-toggleable__content pre {margin: 0.2em;color: black;border-radius: 0.25em;background-color: #f0f8ff;}#sk-container-id-1 input.sk-toggleable__control:checked~div.sk-toggleable__content {max-height: 200px;max-width: 100%;overflow: auto;}#sk-container-id-1 input.sk-toggleable__control:checked~label.sk-toggleable__label-arrow:before {content: \"▾\";}#sk-container-id-1 div.sk-estimator input.sk-toggleable__control:checked~label.sk-toggleable__label {background-color: #d4ebff;}#sk-container-id-1 div.sk-label input.sk-toggleable__control:checked~label.sk-toggleable__label {background-color: #d4ebff;}#sk-container-id-1 input.sk-hidden--visually {border: 0;clip: rect(1px 1px 1px 1px);clip: rect(1px, 1px, 1px, 1px);height: 1px;margin: -1px;overflow: hidden;padding: 0;position: absolute;width: 1px;}#sk-container-id-1 div.sk-estimator {font-family: monospace;background-color: #f0f8ff;border: 1px dotted black;border-radius: 0.25em;box-sizing: border-box;margin-bottom: 0.5em;}#sk-container-id-1 div.sk-estimator:hover {background-color: #d4ebff;}#sk-container-id-1 div.sk-parallel-item::after {content: \"\";width: 100%;border-bottom: 1px solid gray;flex-grow: 1;}#sk-container-id-1 div.sk-label:hover label.sk-toggleable__label {background-color: #d4ebff;}#sk-container-id-1 div.sk-serial::before {content: \"\";position: absolute;border-left: 1px solid gray;box-sizing: border-box;top: 0;bottom: 0;left: 50%;z-index: 0;}#sk-container-id-1 div.sk-serial {display: flex;flex-direction: column;align-items: center;background-color: white;padding-right: 0.2em;padding-left: 0.2em;position: relative;}#sk-container-id-1 div.sk-item {position: relative;z-index: 1;}#sk-container-id-1 div.sk-parallel {display: flex;align-items: stretch;justify-content: center;background-color: white;position: relative;}#sk-container-id-1 div.sk-item::before, #sk-container-id-1 div.sk-parallel-item::before {content: \"\";position: absolute;border-left: 1px solid gray;box-sizing: border-box;top: 0;bottom: 0;left: 50%;z-index: -1;}#sk-container-id-1 div.sk-parallel-item {display: flex;flex-direction: column;z-index: 1;position: relative;background-color: white;}#sk-container-id-1 div.sk-parallel-item:first-child::after {align-self: flex-end;width: 50%;}#sk-container-id-1 div.sk-parallel-item:last-child::after {align-self: flex-start;width: 50%;}#sk-container-id-1 div.sk-parallel-item:only-child::after {width: 0;}#sk-container-id-1 div.sk-dashed-wrapped {border: 1px dashed gray;margin: 0 0.4em 0.5em 0.4em;box-sizing: border-box;padding-bottom: 0.4em;background-color: white;}#sk-container-id-1 div.sk-label label {font-family: monospace;font-weight: bold;display: inline-block;line-height: 1.2em;}#sk-container-id-1 div.sk-label-container {text-align: center;}#sk-container-id-1 div.sk-container {/* jupyter's `normalize.less` sets `[hidden] { display: none; }` but bootstrap.min.css set `[hidden] { display: none !important; }` so we also need the `!important` here to be able to override the default hidden behavior on the sphinx rendered scikit-learn.org. See: https://github.com/scikit-learn/scikit-learn/issues/21755 */display: inline-block !important;position: relative;}#sk-container-id-1 div.sk-text-repr-fallback {display: none;}</style><div id=\"sk-container-id-1\" class=\"sk-top-container\"><div class=\"sk-text-repr-fallback\"><pre>SVR(gamma=0.7)</pre><b>In a Jupyter environment, please rerun this cell to show the HTML representation or trust the notebook. <br />On GitHub, the HTML representation is unable to render, please try loading this page with nbviewer.org.</b></div><div class=\"sk-container\" hidden><div class=\"sk-item\"><div class=\"sk-estimator sk-toggleable\"><input class=\"sk-toggleable__control sk-hidden--visually\" id=\"sk-estimator-id-1\" type=\"checkbox\" checked><label for=\"sk-estimator-id-1\" class=\"sk-toggleable__label sk-toggleable__label-arrow\">SVR</label><div class=\"sk-toggleable__content\"><pre>SVR(gamma=0.7)</pre></div></div></div></div></div>"
            ]
          },
          "metadata": {},
          "execution_count": 33
        }
      ]
    },
    {
      "cell_type": "code",
      "source": [
        "y_pred1=sv1.predict(xt).reshape(-1,1)\n",
        "\n",
        "print(y_pred1)"
      ],
      "metadata": {
        "colab": {
          "base_uri": "https://localhost:8080/"
        },
        "id": "hb7k4C7Pw971",
        "outputId": "8ac9e5b2-168d-4d31-edaa-f396e6e4a20b"
      },
      "execution_count": 34,
      "outputs": [
        {
          "output_type": "stream",
          "name": "stdout",
          "text": [
            "[[-1.45717452]\n",
            " [-0.52899651]\n",
            " [ 0.4279529 ]\n",
            " [ 0.8007877 ]\n",
            " [ 0.67167241]]\n"
          ]
        }
      ]
    },
    {
      "cell_type": "code",
      "source": [
        "\n",
        "# armamos gráfico\n",
        "plt.figure(dpi=150)   # abro figura\n",
        "plt.scatter(x, y, c = 'magenta')     # grafica los datos\n",
        "plt.plot(xg, sv1.predict(xg), color = 'lime') # id predicción\n",
        "plt.scatter(xt, y_pred1, color='orange', marker='*')\n",
        "plt.plot()\n",
        "plt.title(f'Regresión Máquina de Soporte Vectorial Kernelizada para Anscombe')\n",
        "plt.xlabel('x')\n",
        "plt.ylabel('y')\n",
        "#plt.savefig('anscombe.png', dpi = 300)  # guardo en archivo\n",
        "plt.show()  # muestro gráfico\n",
        "plt.close() # cierro figura\n"
      ],
      "metadata": {
        "colab": {
          "base_uri": "https://localhost:8080/",
          "height": 595
        },
        "id": "VF4C1k6oxGEe",
        "outputId": "c6ef18f4-3b72-4333-bc9b-138601d0e54f"
      },
      "execution_count": null,
      "outputs": [
        {
          "output_type": "display_data",
          "data": {
            "text/plain": [
              "<Figure size 900x600 with 1 Axes>"
            ],
            "image/png": "[encoded data removed]"
          },
          "metadata": {
            "needs_background": "light"
          }
        }
      ]
    },
    {
      "cell_type": "code",
      "source": [
        "print(f'Precisión: {sv1.score(x, y)}')\n"
      ],
      "metadata": {
        "colab": {
          "base_uri": "https://localhost:8080/"
        },
        "id": "WuLutG64yXfI",
        "outputId": "ff41cce6-afb3-4c7e-96cb-c1e5c90985dd"
      },
      "execution_count": 35,
      "outputs": [
        {
          "output_type": "stream",
          "name": "stdout",
          "text": [
            "Precisión: 0.9452602767211021\n"
          ]
        }
      ]
    },
    {
      "cell_type": "markdown",
      "source": [
        "LA PRESICIÓN ES MUCHO MEJOR. "
      ],
      "metadata": {
        "id": "IcZ9ErC6BeqC"
      }
    }
  ]
}