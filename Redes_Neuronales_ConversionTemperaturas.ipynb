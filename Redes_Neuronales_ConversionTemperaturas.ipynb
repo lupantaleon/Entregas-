{
  "nbformat": 4,
  "nbformat_minor": 0,
  "metadata": {
    "colab": {
      "provenance": [],
      "include_colab_link": true
    },
    "kernelspec": {
      "name": "python3",
      "display_name": "Python 3"
    },
    "language_info": {
      "name": "python"
    }
  },
  "cells": [
    {
      "cell_type": "markdown",
      "metadata": {
        "id": "view-in-github",
        "colab_type": "text"
      },
      "source": [
        "<a href=\"https://colab.research.google.com/github/lupantaleon/Entregas-/blob/main/Redes_Neuronales_ConversionTemperaturas.ipynb\" target=\"_parent\"><img src=\"https://colab.research.google.com/assets/colab-badge.svg\" alt=\"Open In Colab\"/></a>"
      ]
    },
    {
      "cell_type": "markdown",
      "source": [
        "**Importamos las Librerías**\n",
        "\n",
        "En caso que les falte alguna pueden importarla al Colab con **!pip install nombre_del paquete_que _quiero** (notar el **!**antes del comando pip)\n",
        "Recordar que todo lo que instalemos en Colab, se instala en la nube y no en nuestra computadora."
      ],
      "metadata": {
        "id": "XYa1r9-R4m9b"
      }
    },
    {
      "cell_type": "code",
      "execution_count": null,
      "metadata": {
        "id": "cmdsnSrlg-M2"
      },
      "outputs": [],
      "source": [
        "import tensorflow as tf\n",
        "import numpy as np\n",
        "import matplotlib.pyplot as plt"
      ]
    },
    {
      "cell_type": "code",
      "source": [
        "celsius = np.array([-40, -10, 0, 8, 15, 22, 38], dtype=float)\n",
        "fahrenheit = np.array([-40, 14, 32, 46, 59, 72, 100], dtype=float)"
      ],
      "metadata": {
        "id": "wChzvNiQvDNi"
      },
      "execution_count": null,
      "outputs": []
    },
    {
      "cell_type": "code",
      "source": [
        "#capa = tf.keras.layers.Dense(units = 1,input_shape =[1])"
      ],
      "metadata": {
        "id": "tjrQ5T4MvXGF"
      },
      "execution_count": null,
      "outputs": []
    },
    {
      "cell_type": "code",
      "source": [
        "#modelo = tf.keras.Sequential([capa])"
      ],
      "metadata": {
        "id": "JnmK0u_1v0Si"
      },
      "execution_count": null,
      "outputs": []
    },
    {
      "cell_type": "code",
      "source": [
        "oculta1 = tf.keras.layers.Dense(units=3, input_shape=[1])\n",
        "oculta2 = tf.keras.layers.Dense(units=3)\n",
        "salida = tf.keras.layers.Dense(units=1)\n",
        "modelo = tf.keras.Sequential([oculta1, oculta2, salida])"
      ],
      "metadata": {
        "id": "uml0djJD9Ik1"
      },
      "execution_count": null,
      "outputs": []
    },
    {
      "cell_type": "code",
      "source": [
        "modelo.compile(optimizer = tf.keras.optimizers.Adam(0.1),\n",
        "               loss = 'mean_squared_error',              \n",
        "    )"
      ],
      "metadata": {
        "id": "GayV0_eVv8gU"
      },
      "execution_count": null,
      "outputs": []
    },
    {
      "cell_type": "code",
      "source": [
        "#Empiezo a Entrenar"
      ],
      "metadata": {
        "id": "cSdXdWpWwRQy"
      },
      "execution_count": null,
      "outputs": []
    },
    {
      "cell_type": "code",
      "source": [
        "historial = modelo.fit(celsius, fahrenheit,epochs = 1000,verbose = False)\n",
        "print(\"Modelo Entrenado!!! \")"
      ],
      "metadata": {
        "id": "yCgFmBHEwRVn",
        "colab": {
          "base_uri": "https://localhost:8080/"
        },
        "outputId": "a1c2cc28-f304-4d96-95cc-8b8309fe7bef"
      },
      "execution_count": null,
      "outputs": [
        {
          "output_type": "stream",
          "name": "stdout",
          "text": [
            "Modelo Entrenado!!! \n"
          ]
        }
      ]
    },
    {
      "cell_type": "code",
      "source": [
        "plt.xlabel(\"#Epoca\")\n",
        "plt.ylabel(\"Pérdida\")\n",
        "plt.plot(historial.history[\"loss\"])"
      ],
      "metadata": {
        "id": "mK_Mtm0swRec",
        "colab": {
          "base_uri": "https://localhost:8080/",
          "height": 297
        },
        "outputId": "9a1e00b9-1c5f-47dd-a6da-18831880def6"
      },
      "execution_count": null,
      "outputs": [
        {
          "output_type": "execute_result",
          "data": {
            "text/plain": [
              "[<matplotlib.lines.Line2D at 0x7f5211539940>]"
            ]
          },
          "metadata": {},
          "execution_count": 7
        },
        {
          "output_type": "display_data",
          "data": {
            "text/plain": [
              "<Figure size 432x288 with 1 Axes>"
            ],
            "image/png": "[encoded data removed]"
          },
          "metadata": {
            "needs_background": "light"
          }
        }
      ]
    },
    {
      "cell_type": "markdown",
      "source": [
        "Vemos que **el error disminuye a medida que aumento las vueltas** (épocas = Epoch), pero llego a un número de vueltas a partir del cual no mejoro mas."
      ],
      "metadata": {
        "id": "VDzReS1F2bTb"
      }
    },
    {
      "cell_type": "markdown",
      "source": [
        "**Predicciones**\n",
        "\n",
        "Hacemos una **predicción** con un conjunto de temperaturas que no estén en el training set ( variable \"celsius\" en línea de código #2), llamando al **método** \"**predict**\"\n"
      ],
      "metadata": {
        "id": "5xtJwvU7xhjp"
      }
    },
    {
      "cell_type": "code",
      "source": [
        "temp_celsius =[3, -5, 28, 23, 40]"
      ],
      "metadata": {
        "id": "yAikVEoqyw3p"
      },
      "execution_count": null,
      "outputs": []
    },
    {
      "cell_type": "code",
      "source": [
        "resultados = modelo.predict(temp_celsius)"
      ],
      "metadata": {
        "id": "Ru0K3g6awRmE",
        "colab": {
          "base_uri": "https://localhost:8080/"
        },
        "outputId": "d8e536c2-b2da-4348-8f8e-7a4992088a5b"
      },
      "execution_count": null,
      "outputs": [
        {
          "output_type": "stream",
          "name": "stdout",
          "text": [
            "1/1 [==============================] - 0s 120ms/step\n"
          ]
        }
      ]
    },
    {
      "cell_type": "code",
      "source": [
        "resultado_conversion = list(zip(temp_celsius,resultados))\n",
        "print(\"***Resultado de la Conversión***\")\n",
        "for grados_celsius,grados_far in resultado_conversion:\n",
        "  print(f'* {grados_celsius}C = {grados_far}F')"
      ],
      "metadata": {
        "colab": {
          "base_uri": "https://localhost:8080/"
        },
        "id": "BCmz5abLz2uj",
        "outputId": "6f014204-42cd-4471-dc00-5c33a71bed14"
      },
      "execution_count": null,
      "outputs": [
        {
          "output_type": "stream",
          "name": "stdout",
          "text": [
            "***Resultado de la Conversión***\n",
            "* 3C = [37.34637]F\n",
            "* -5C = [22.96278]F\n",
            "* 28C = [82.295105]F\n",
            "* 23C = [73.30534]F\n",
            "* 40C = [103.8705]F\n"
          ]
        }
      ]
    },
    {
      "cell_type": "markdown",
      "source": [
        "**Parámetros Internos de la Red: Pesos y Sesgos**\n",
        "\n",
        "Por medio de la función get_weights, podemos ver los pesos (w) y los sesgos (b) que se asignaron a las conexiones y neuronas respectivamente  en cada capa."
      ],
      "metadata": {
        "id": "rN1aIs2657Ni"
      }
    },
    {
      "cell_type": "code",
      "metadata": {
        "id": "FVDejrBgcokc",
        "colab": {
          "base_uri": "https://localhost:8080/"
        },
        "outputId": "3da2cb89-e2a0-4338-c271-9614c4777ce9"
      },
      "source": [
        "print(\"Variables internas del modelo\")\n",
        "#print(capa.get_weights())\n",
        "print(oculta1.get_weights())\n",
        "print(oculta2.get_weights())\n",
        "print(salida.get_weights())"
      ],
      "execution_count": null,
      "outputs": [
        {
          "output_type": "stream",
          "name": "stdout",
          "text": [
            "Variables internas del modelo\n",
            "[array([[ 0.35926342, -0.15991922, -0.22664525]], dtype=float32), array([ 3.0835793, -3.0123537, -3.0141616], dtype=float32)]\n",
            "[array([[-0.8986017 ,  1.231197  ,  1.1326742 ],\n",
            "       [ 0.287301  , -0.8997964 , -0.2678699 ],\n",
            "       [ 0.69764876,  0.19653817, -0.9189102 ]], dtype=float32), array([-2.9903884,  3.2025132,  2.9916515], dtype=float32)]\n",
            "[array([[-0.91396236],\n",
            "       [ 0.96453273],\n",
            "       [ 1.2065072 ]], dtype=float32), array([3.0415916], dtype=float32)]\n"
          ]
        }
      ]
    },
    {
      "cell_type": "code",
      "source": [
        "# Comparemos con los coeficientes de la Formula: F = 1.8 *C + 32 ... dio así de bien porque este ejemplo es justo una función lineal"
      ],
      "metadata": {
        "id": "ZOhRKMITwSO7"
      },
      "execution_count": null,
      "outputs": []
    },
    {
      "cell_type": "code",
      "source": [
        "# que pasa si hago lo mismocon mas neuronas y  capas?? pruebo 2 capas con 3 neuronas cada una\n",
        "oculta1 = tf.keras.layers.Dense(units=3, input_shape=[1])\n",
        "oculta2 = tf.keras.layers.Dense(units=3)\n",
        "salida = tf.keras.layers.Dense(units=1)\n",
        "modelo = tf.keras.Sequential([oculta1, oculta2, salida])\n"
      ],
      "metadata": {
        "id": "U__vlAyt7PR_"
      },
      "execution_count": null,
      "outputs": []
    },
    {
      "cell_type": "code",
      "source": [
        "# aprendio mas rápido. Desde la epoca 50 ya no tiene nada nuevo\n",
        "# Los coeficientes inernos de la red ya no se correponden con los de la ecuación, es la mejor combinacion de pesos y sesgs con los que llegó a la \n",
        "#rta que le parecio mas acertada."
      ],
      "metadata": {
        "id": "ZhYEPJj0814H"
      },
      "execution_count": null,
      "outputs": []
    },
    {
      "cell_type": "code",
      "source": [],
      "metadata": {
        "id": "fp5zrmxy82Pg"
      },
      "execution_count": null,
      "outputs": []
    },
    {
      "cell_type": "code",
      "source": [],
      "metadata": {
        "id": "efMI-3tN82Ty"
      },
      "execution_count": null,
      "outputs": []
    },
    {
      "cell_type": "code",
      "source": [],
      "metadata": {
        "id": "-LDbto7d82e2"
      },
      "execution_count": null,
      "outputs": []
    },
    {
      "cell_type": "code",
      "source": [],
      "metadata": {
        "id": "ezM_Yo0582jJ"
      },
      "execution_count": null,
      "outputs": []
    }
  ]
}