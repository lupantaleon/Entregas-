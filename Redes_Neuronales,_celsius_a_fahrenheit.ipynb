{
  "nbformat": 4,
  "nbformat_minor": 0,
  "metadata": {
    "colab": {
      "provenance": [],
      "authorship_tag": "ABX9TyN0opwekNacvd60aHhL2cTE",
      "include_colab_link": true
    },
    "kernelspec": {
      "name": "python3",
      "display_name": "Python 3"
    },
    "language_info": {
      "name": "python"
    }
  },
  "cells": [
    {
      "cell_type": "markdown",
      "metadata": {
        "id": "view-in-github",
        "colab_type": "text"
      },
      "source": [
        "<a href=\"https://colab.research.google.com/github/lupantaleon/Entregas-/blob/main/Redes_Neuronales%2C_celsius_a_fahrenheit.ipynb\" target=\"_parent\"><img src=\"https://colab.research.google.com/assets/colab-badge.svg\" alt=\"Open In Colab\"/></a>"
      ]
    },
    {
      "cell_type": "code",
      "execution_count": 1,
      "metadata": {
        "id": "TDgT7_KeRueE"
      },
      "outputs": [],
      "source": [
        "import tensorflow as tf  \n",
        "#libreria de inteligencia artificial hecha por Google\n",
        "import numpy as np #para trabjar facilmente con  arreglos numericos \n"
      ]
    },
    {
      "cell_type": "markdown",
      "source": [
        "CREAR CAPA DE ENTRADA Y SALIDA"
      ],
      "metadata": {
        "id": "FznXUIC0YZPd"
      }
    },
    {
      "cell_type": "code",
      "source": [
        "celsius = np.array ([-40,-10, 0, 8, 15,22,38], dtype=float ) #Hago un array con los valores de entrada, le agrego los valores que usara para aprender.\n",
        "#La función DType puede ser útil cuando necesitas asegurarte de que estás trabajando con el tipo de datos correcto en tu código.\n",
        "fahrenheit = np.array([-40, 14,32,46,59,72,100], dtype=float) #Hago un array con los valores de salida"
      ],
      "metadata": {
        "id": "2eujT74rSMc2"
      },
      "execution_count": 2,
      "outputs": []
    },
    {
      "cell_type": "code",
      "source": [
        "#capa = tf.keras.layers.Dense(units=1, input_shape = [1]) #aca nuestras capas estan flotando, debemos avisar como queremos que funcionen\n",
        "#modelo =tf.keras.Sequential([capa ])\n",
        "\n",
        "oculta1 = tf.keras.layers.Dense(units=3, input_shape= [1]) \n",
        "oculta2 = tf.keras.layers.Dense(units=3)\n",
        "salida = tf.keras.layers.Dense(units=1)\n",
        "modelo = tf.keras.Sequential([oculta1, oculta2, salida])\n",
        "\n"
      ],
      "metadata": {
        "id": "4ut417XETnMX"
      },
      "execution_count": 23,
      "outputs": []
    },
    {
      "cell_type": "markdown",
      "source": [
        "COMPILAR NUESTRO MODELO, CON OPTIMIZAR Y PERDIDA "
      ],
      "metadata": {
        "id": "wdgW59MNYUPn"
      }
    },
    {
      "cell_type": "code",
      "source": [
        "modelo.compile( \n",
        "    optimizer =tf.keras.optimizers.Adam(0.1), #Adam es un optimizador que le permite a la red ajustar los pesos y los sesgos para que aprenda y no desaprenda. Osea que poco a poco vaya mejorando. Lataza de aprendizaje se coloca entre parentesis y le dice cuando ajustar\n",
        "loss= 'mean_squared_error' #explica que una poca cantidad de  errores grandes es peor una gran cantidad de errores peqeños \n",
        "\n",
        ")#modelo echo para que aprenda mejor "
      ],
      "metadata": {
        "id": "Su0iKrTYS2aA"
      },
      "execution_count": 24,
      "outputs": []
    },
    {
      "cell_type": "markdown",
      "source": [
        "AHORA A ENTRENARLO"
      ],
      "metadata": {
        "id": "dWQoO4T6YhbE"
      }
    },
    {
      "cell_type": "code",
      "source": [
        "print (\"comenzando el entrenamiento\")\n",
        "historial = modelo.fit (celsius,fahrenheit, epochs = 600, verbose =False)\n",
        "print (\"modelo entrenado\")"
      ],
      "metadata": {
        "colab": {
          "base_uri": "https://localhost:8080/"
        },
        "id": "r87HNKPNYhNF",
        "outputId": "5e7861aa-4b9a-45ba-9a35-050f6ac2db03"
      },
      "execution_count": 25,
      "outputs": [
        {
          "output_type": "stream",
          "name": "stdout",
          "text": [
            "comenzando el entrenamiento\n",
            "modelo entrenado\n"
          ]
        }
      ]
    },
    {
      "cell_type": "markdown",
      "source": [
        "Veamos que perdida tenemos"
      ],
      "metadata": {
        "id": "qVT-LCaPec82"
      }
    },
    {
      "cell_type": "code",
      "source": [
        "import matplotlib.pyplot as plt \n",
        "plt.xlabel (\"# Epoca\")\n",
        "plt.ylabel (\"Magnitud de perdida\")\n",
        "plt.plot(historial.history [\"loss\"])"
      ],
      "metadata": {
        "colab": {
          "base_uri": "https://localhost:8080/",
          "height": 466
        },
        "id": "WjFbZ2s4dcsE",
        "outputId": "f25d8d4e-d32a-4656-d2a8-55e5be6f5da9"
      },
      "execution_count": 26,
      "outputs": [
        {
          "output_type": "execute_result",
          "data": {
            "text/plain": [
              "[<matplotlib.lines.Line2D at 0x7fce8505a8e0>]"
            ]
          },
          "metadata": {},
          "execution_count": 26
        },
        {
          "output_type": "display_data",
          "data": {
            "text/plain": [
              "<Figure size 640x480 with 1 Axes>"
            ],
            "image/png": "[encoded data removed]"
          },
          "metadata": {}
        }
      ]
    },
    {
      "cell_type": "markdown",
      "source": [
        "Hacer una predicción"
      ],
      "metadata": {
        "id": "LDtEwOJ7fWRV"
      }
    },
    {
      "cell_type": "code",
      "source": [
        "print(\"hagamos una predicción\")\n",
        "resultado = modelo.predict([100.0])\n",
        "print( \"el resultado es \" + str(resultado) + \"fahrenheit\")"
      ],
      "metadata": {
        "colab": {
          "base_uri": "https://localhost:8080/"
        },
        "id": "oPm3Yo34egtG",
        "outputId": "361a67d5-f975-4afa-a65a-e1f48bcfd051"
      },
      "execution_count": 27,
      "outputs": [
        {
          "output_type": "stream",
          "name": "stdout",
          "text": [
            "hagamos una predicción\n",
            "1/1 [==============================] - 0s 122ms/step\n",
            "el resultado es [[211.74745]]fahrenheit\n"
          ]
        }
      ]
    },
    {
      "cell_type": "code",
      "source": [
        "print(\"vaiables internas del modelo\")\n",
        "print(oculta1.get_weights ())\n",
        "print(oculta2.get_weights ())\n",
        "print(salida.get_weights ())"
      ],
      "metadata": {
        "colab": {
          "base_uri": "https://localhost:8080/"
        },
        "id": "0dzgz9yLm_5K",
        "outputId": "5d41d6ca-28ed-44fc-8259-654993ee6751"
      },
      "execution_count": 28,
      "outputs": [
        {
          "output_type": "stream",
          "name": "stdout",
          "text": [
            "vaiables internas del modelo\n",
            "[array([[-0.8952729 , -0.3633737 , -0.13538796]], dtype=float32), array([-3.630887 ,  2.0532584,  2.9183688], dtype=float32)]\n",
            "[array([[-0.06529599,  0.01771223,  1.3882256 ],\n",
            "       [ 1.3947657 ,  0.25578287, -0.6793946 ],\n",
            "       [ 0.2903361 ,  0.2264039 , -0.96694297]], dtype=float32), array([-1.4421128, -0.9361487, -3.765043 ], dtype=float32)]\n",
            "[array([[ 0.21377227],\n",
            "       [-0.33254942],\n",
            "       [-2.1453273 ]], dtype=float32), array([3.5411537], dtype=float32)]\n"
          ]
        }
      ]
    }
  ]
}